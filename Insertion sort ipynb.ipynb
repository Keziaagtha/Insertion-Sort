{
 "cells": [
  {
   "cell_type": "code",
   "execution_count": 2,
   "id": "845d5e0d",
   "metadata": {},
   "outputs": [],
   "source": [
    "import matplotlib.pyplot as plt\n",
    "from matplotlib.animation import FuncAnimation\n",
    "import numpy as np\n",
    "import random\n",
    "\n",
    "# Set the backend to one that supports animations\n",
    "plt.switch_backend('TkAgg')  # Use 'TkAgg' as an example; you can try other backends\n",
    "\n",
    "# Set the style of the graph\n",
    "plt.style.use('fivethirtyeight')\n",
    "\n",
    "# Function to perform insertion sort and yield the intermediate states\n",
    "def insertion_sort(arr):\n",
    "    for i in range(1, len(arr)):\n",
    "        key = arr[i]\n",
    "        j = i - 1\n",
    "        while j >= 0 and key < arr[j]:\n",
    "            arr[j + 1] = arr[j]\n",
    "            j -= 1\n",
    "            yield arr.copy()\n",
    "        arr[j + 1] = key\n",
    "        yield arr.copy()\n",
    "\n",
    "# Generate a random array\n",
    "array_size = 10\n",
    "data = list(range(1, array_size + 1))\n",
    "random.shuffle(data)\n",
    "\n",
    "# Create the figure and axis\n",
    "fig, ax = plt.subplots()\n",
    "\n",
    "# Set the axis limits\n",
    "ax.set_xlim(0, array_size)\n",
    "ax.set_ylim(0, array_size + 1)\n",
    "\n",
    "# Create a bar plot\n",
    "bars = plt.bar(range(array_size), data, align='edge')\n",
    "# Text to display the number of iterations\n",
    "text = ax.text(0.02, 0.95, '', transform=ax.transAxes)\n",
    "\n",
    "# Function to update the plot in each animation frame\n",
    "def update(frame):\n",
    "    for bar, val in zip(bars, frame):\n",
    "        bar.set_height(val)\n",
    "    text.set_text(f'Iterations: {len(frame) - 1}')\n",
    "\n",
    "# Create the animation with explicit save_count\n",
    "animation = FuncAnimation(\n",
    "    fig, \n",
    "    update, \n",
    "    frames=insertion_sort(data), \n",
    "    repeat=False, \n",
    "    blit=False,\n",
    "    save_count=len(data)  # Specify the save_count\n",
    ")\n",
    "\n",
    "# Show the plot\n",
    "plt.show()"
   ]
  },
  {
   "cell_type": "code",
   "execution_count": 3,
   "id": "2620ea2a",
   "metadata": {},
   "outputs": [
    {
     "name": "stdout",
     "output_type": "stream",
     "text": [
      "[38, 42, 44, 50, 68, 70]\n"
     ]
    }
   ],
   "source": [
    "scores = [50, 70, 38, 44, 68, 42]\n",
    "for a in range (0, len(scores)):\n",
    "    for b in range (a+1, len(scores)):\n",
    "        if scores[a] > scores[b]:\n",
    "            x = scores [a]\n",
    "            scores [a] = scores [b]\n",
    "            scores [b] = x\n",
    "print(scores)"
   ]
  },
  {
   "cell_type": "code",
   "execution_count": null,
   "id": "77075ae2",
   "metadata": {},
   "outputs": [],
   "source": []
  }
 ],
 "metadata": {
  "kernelspec": {
   "display_name": "Python 3 (ipykernel)",
   "language": "python",
   "name": "python3"
  },
  "language_info": {
   "codemirror_mode": {
    "name": "ipython",
    "version": 3
   },
   "file_extension": ".py",
   "mimetype": "text/x-python",
   "name": "python",
   "nbconvert_exporter": "python",
   "pygments_lexer": "ipython3",
   "version": "3.11.5"
  }
 },
 "nbformat": 4,
 "nbformat_minor": 5
}
